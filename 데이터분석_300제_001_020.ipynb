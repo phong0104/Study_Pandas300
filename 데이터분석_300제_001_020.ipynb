{
  "nbformat": 4,
  "nbformat_minor": 0,
  "metadata": {
    "colab": {
      "provenance": [],
      "collapsed_sections": [],
      "authorship_tag": "ABX9TyMv0MalDUxvN2pzpHn9fWe/",
      "include_colab_link": true
    },
    "kernelspec": {
      "name": "python3",
      "display_name": "Python 3"
    },
    "language_info": {
      "name": "python"
    }
  },
  "cells": [
    {
      "cell_type": "markdown",
      "metadata": {
        "id": "view-in-github",
        "colab_type": "text"
      },
      "source": [
        "<a href=\"https://colab.research.google.com/github/phong0104/Study_Pandas300/blob/main/%EB%8D%B0%EC%9D%B4%ED%84%B0%EB%B6%84%EC%84%9D_300%EC%A0%9C_001_020.ipynb\" target=\"_parent\"><img src=\"https://colab.research.google.com/assets/colab-badge.svg\" alt=\"Open In Colab\"/></a>"
      ]
    },
    {
      "cell_type": "markdown",
      "source": [
        "https://wikidocs.net/155543"
      ],
      "metadata": {
        "id": "OINMLCcmAOhI"
      }
    },
    {
      "cell_type": "markdown",
      "source": [
        "### 001-010"
      ],
      "metadata": {
        "id": "yUUPiqTjAo5y"
      }
    },
    {
      "cell_type": "markdown",
      "source": [
        "Numpy Import"
      ],
      "metadata": {
        "id": "jaAVDu9b-uTT"
      }
    },
    {
      "cell_type": "code",
      "execution_count": null,
      "metadata": {
        "id": "Fvh8YAtX-hM1"
      },
      "outputs": [],
      "source": [
        "import numpy as np"
      ]
    },
    {
      "cell_type": "markdown",
      "source": [
        "ndarray"
      ],
      "metadata": {
        "id": "rkIGBkRj-xXE"
      }
    },
    {
      "cell_type": "code",
      "source": [
        "data = [1,2,3]\n",
        "np.array(data)"
      ],
      "metadata": {
        "colab": {
          "base_uri": "https://localhost:8080/"
        },
        "id": "Z-kGx-YO-rL9",
        "outputId": "45ea9159-e634-46ba-83f2-2477913ac8a0"
      },
      "execution_count": null,
      "outputs": [
        {
          "output_type": "execute_result",
          "data": {
            "text/plain": [
              "array([1, 2, 3])"
            ]
          },
          "metadata": {},
          "execution_count": 2
        }
      ]
    },
    {
      "cell_type": "markdown",
      "source": [
        "arange"
      ],
      "metadata": {
        "id": "blXmjOEE-7u0"
      }
    },
    {
      "cell_type": "code",
      "source": [
        "np.arange(0,100)"
      ],
      "metadata": {
        "colab": {
          "base_uri": "https://localhost:8080/"
        },
        "id": "DfK9Bq-n-2zs",
        "outputId": "0a87e586-b51a-444e-cafa-418454b6eca0"
      },
      "execution_count": null,
      "outputs": [
        {
          "output_type": "execute_result",
          "data": {
            "text/plain": [
              "array([ 0,  1,  2,  3,  4,  5,  6,  7,  8,  9, 10, 11, 12, 13, 14, 15, 16,\n",
              "       17, 18, 19, 20, 21, 22, 23, 24, 25, 26, 27, 28, 29, 30, 31, 32, 33,\n",
              "       34, 35, 36, 37, 38, 39, 40, 41, 42, 43, 44, 45, 46, 47, 48, 49, 50,\n",
              "       51, 52, 53, 54, 55, 56, 57, 58, 59, 60, 61, 62, 63, 64, 65, 66, 67,\n",
              "       68, 69, 70, 71, 72, 73, 74, 75, 76, 77, 78, 79, 80, 81, 82, 83, 84,\n",
              "       85, 86, 87, 88, 89, 90, 91, 92, 93, 94, 95, 96, 97, 98, 99])"
            ]
          },
          "metadata": {},
          "execution_count": 3
        }
      ]
    },
    {
      "cell_type": "code",
      "source": [
        "np.arange(100)"
      ],
      "metadata": {
        "colab": {
          "base_uri": "https://localhost:8080/"
        },
        "id": "iTYm0qzJ-9d8",
        "outputId": "a85c54af-0aa3-4015-d927-af93b3401f87"
      },
      "execution_count": null,
      "outputs": [
        {
          "output_type": "execute_result",
          "data": {
            "text/plain": [
              "array([ 0,  1,  2,  3,  4,  5,  6,  7,  8,  9, 10, 11, 12, 13, 14, 15, 16,\n",
              "       17, 18, 19, 20, 21, 22, 23, 24, 25, 26, 27, 28, 29, 30, 31, 32, 33,\n",
              "       34, 35, 36, 37, 38, 39, 40, 41, 42, 43, 44, 45, 46, 47, 48, 49, 50,\n",
              "       51, 52, 53, 54, 55, 56, 57, 58, 59, 60, 61, 62, 63, 64, 65, 66, 67,\n",
              "       68, 69, 70, 71, 72, 73, 74, 75, 76, 77, 78, 79, 80, 81, 82, 83, 84,\n",
              "       85, 86, 87, 88, 89, 90, 91, 92, 93, 94, 95, 96, 97, 98, 99])"
            ]
          },
          "metadata": {},
          "execution_count": 4
        }
      ]
    },
    {
      "cell_type": "code",
      "source": [
        "lst = list(range(0,1000,2))\n",
        "np.array(lst)"
      ],
      "metadata": {
        "colab": {
          "base_uri": "https://localhost:8080/"
        },
        "id": "rC2DJ5_R-_Ys",
        "outputId": "2b74765e-aeee-4b43-da66-ceedce6ce5ee"
      },
      "execution_count": null,
      "outputs": [
        {
          "output_type": "execute_result",
          "data": {
            "text/plain": [
              "array([  0,   2,   4,   6,   8,  10,  12,  14,  16,  18,  20,  22,  24,\n",
              "        26,  28,  30,  32,  34,  36,  38,  40,  42,  44,  46,  48,  50,\n",
              "        52,  54,  56,  58,  60,  62,  64,  66,  68,  70,  72,  74,  76,\n",
              "        78,  80,  82,  84,  86,  88,  90,  92,  94,  96,  98, 100, 102,\n",
              "       104, 106, 108, 110, 112, 114, 116, 118, 120, 122, 124, 126, 128,\n",
              "       130, 132, 134, 136, 138, 140, 142, 144, 146, 148, 150, 152, 154,\n",
              "       156, 158, 160, 162, 164, 166, 168, 170, 172, 174, 176, 178, 180,\n",
              "       182, 184, 186, 188, 190, 192, 194, 196, 198, 200, 202, 204, 206,\n",
              "       208, 210, 212, 214, 216, 218, 220, 222, 224, 226, 228, 230, 232,\n",
              "       234, 236, 238, 240, 242, 244, 246, 248, 250, 252, 254, 256, 258,\n",
              "       260, 262, 264, 266, 268, 270, 272, 274, 276, 278, 280, 282, 284,\n",
              "       286, 288, 290, 292, 294, 296, 298, 300, 302, 304, 306, 308, 310,\n",
              "       312, 314, 316, 318, 320, 322, 324, 326, 328, 330, 332, 334, 336,\n",
              "       338, 340, 342, 344, 346, 348, 350, 352, 354, 356, 358, 360, 362,\n",
              "       364, 366, 368, 370, 372, 374, 376, 378, 380, 382, 384, 386, 388,\n",
              "       390, 392, 394, 396, 398, 400, 402, 404, 406, 408, 410, 412, 414,\n",
              "       416, 418, 420, 422, 424, 426, 428, 430, 432, 434, 436, 438, 440,\n",
              "       442, 444, 446, 448, 450, 452, 454, 456, 458, 460, 462, 464, 466,\n",
              "       468, 470, 472, 474, 476, 478, 480, 482, 484, 486, 488, 490, 492,\n",
              "       494, 496, 498, 500, 502, 504, 506, 508, 510, 512, 514, 516, 518,\n",
              "       520, 522, 524, 526, 528, 530, 532, 534, 536, 538, 540, 542, 544,\n",
              "       546, 548, 550, 552, 554, 556, 558, 560, 562, 564, 566, 568, 570,\n",
              "       572, 574, 576, 578, 580, 582, 584, 586, 588, 590, 592, 594, 596,\n",
              "       598, 600, 602, 604, 606, 608, 610, 612, 614, 616, 618, 620, 622,\n",
              "       624, 626, 628, 630, 632, 634, 636, 638, 640, 642, 644, 646, 648,\n",
              "       650, 652, 654, 656, 658, 660, 662, 664, 666, 668, 670, 672, 674,\n",
              "       676, 678, 680, 682, 684, 686, 688, 690, 692, 694, 696, 698, 700,\n",
              "       702, 704, 706, 708, 710, 712, 714, 716, 718, 720, 722, 724, 726,\n",
              "       728, 730, 732, 734, 736, 738, 740, 742, 744, 746, 748, 750, 752,\n",
              "       754, 756, 758, 760, 762, 764, 766, 768, 770, 772, 774, 776, 778,\n",
              "       780, 782, 784, 786, 788, 790, 792, 794, 796, 798, 800, 802, 804,\n",
              "       806, 808, 810, 812, 814, 816, 818, 820, 822, 824, 826, 828, 830,\n",
              "       832, 834, 836, 838, 840, 842, 844, 846, 848, 850, 852, 854, 856,\n",
              "       858, 860, 862, 864, 866, 868, 870, 872, 874, 876, 878, 880, 882,\n",
              "       884, 886, 888, 890, 892, 894, 896, 898, 900, 902, 904, 906, 908,\n",
              "       910, 912, 914, 916, 918, 920, 922, 924, 926, 928, 930, 932, 934,\n",
              "       936, 938, 940, 942, 944, 946, 948, 950, 952, 954, 956, 958, 960,\n",
              "       962, 964, 966, 968, 970, 972, 974, 976, 978, 980, 982, 984, 986,\n",
              "       988, 990, 992, 994, 996, 998])"
            ]
          },
          "metadata": {},
          "execution_count": 8
        }
      ]
    },
    {
      "cell_type": "code",
      "source": [
        "np.arange(2,1000,2)"
      ],
      "metadata": {
        "colab": {
          "base_uri": "https://localhost:8080/"
        },
        "id": "omD4Q1lZ_PJd",
        "outputId": "891c93d9-2462-4d73-8dd9-2101a56d030f"
      },
      "execution_count": null,
      "outputs": [
        {
          "output_type": "execute_result",
          "data": {
            "text/plain": [
              "array([  2,   4,   6,   8,  10,  12,  14,  16,  18,  20,  22,  24,  26,\n",
              "        28,  30,  32,  34,  36,  38,  40,  42,  44,  46,  48,  50,  52,\n",
              "        54,  56,  58,  60,  62,  64,  66,  68,  70,  72,  74,  76,  78,\n",
              "        80,  82,  84,  86,  88,  90,  92,  94,  96,  98, 100, 102, 104,\n",
              "       106, 108, 110, 112, 114, 116, 118, 120, 122, 124, 126, 128, 130,\n",
              "       132, 134, 136, 138, 140, 142, 144, 146, 148, 150, 152, 154, 156,\n",
              "       158, 160, 162, 164, 166, 168, 170, 172, 174, 176, 178, 180, 182,\n",
              "       184, 186, 188, 190, 192, 194, 196, 198, 200, 202, 204, 206, 208,\n",
              "       210, 212, 214, 216, 218, 220, 222, 224, 226, 228, 230, 232, 234,\n",
              "       236, 238, 240, 242, 244, 246, 248, 250, 252, 254, 256, 258, 260,\n",
              "       262, 264, 266, 268, 270, 272, 274, 276, 278, 280, 282, 284, 286,\n",
              "       288, 290, 292, 294, 296, 298, 300, 302, 304, 306, 308, 310, 312,\n",
              "       314, 316, 318, 320, 322, 324, 326, 328, 330, 332, 334, 336, 338,\n",
              "       340, 342, 344, 346, 348, 350, 352, 354, 356, 358, 360, 362, 364,\n",
              "       366, 368, 370, 372, 374, 376, 378, 380, 382, 384, 386, 388, 390,\n",
              "       392, 394, 396, 398, 400, 402, 404, 406, 408, 410, 412, 414, 416,\n",
              "       418, 420, 422, 424, 426, 428, 430, 432, 434, 436, 438, 440, 442,\n",
              "       444, 446, 448, 450, 452, 454, 456, 458, 460, 462, 464, 466, 468,\n",
              "       470, 472, 474, 476, 478, 480, 482, 484, 486, 488, 490, 492, 494,\n",
              "       496, 498, 500, 502, 504, 506, 508, 510, 512, 514, 516, 518, 520,\n",
              "       522, 524, 526, 528, 530, 532, 534, 536, 538, 540, 542, 544, 546,\n",
              "       548, 550, 552, 554, 556, 558, 560, 562, 564, 566, 568, 570, 572,\n",
              "       574, 576, 578, 580, 582, 584, 586, 588, 590, 592, 594, 596, 598,\n",
              "       600, 602, 604, 606, 608, 610, 612, 614, 616, 618, 620, 622, 624,\n",
              "       626, 628, 630, 632, 634, 636, 638, 640, 642, 644, 646, 648, 650,\n",
              "       652, 654, 656, 658, 660, 662, 664, 666, 668, 670, 672, 674, 676,\n",
              "       678, 680, 682, 684, 686, 688, 690, 692, 694, 696, 698, 700, 702,\n",
              "       704, 706, 708, 710, 712, 714, 716, 718, 720, 722, 724, 726, 728,\n",
              "       730, 732, 734, 736, 738, 740, 742, 744, 746, 748, 750, 752, 754,\n",
              "       756, 758, 760, 762, 764, 766, 768, 770, 772, 774, 776, 778, 780,\n",
              "       782, 784, 786, 788, 790, 792, 794, 796, 798, 800, 802, 804, 806,\n",
              "       808, 810, 812, 814, 816, 818, 820, 822, 824, 826, 828, 830, 832,\n",
              "       834, 836, 838, 840, 842, 844, 846, 848, 850, 852, 854, 856, 858,\n",
              "       860, 862, 864, 866, 868, 870, 872, 874, 876, 878, 880, 882, 884,\n",
              "       886, 888, 890, 892, 894, 896, 898, 900, 902, 904, 906, 908, 910,\n",
              "       912, 914, 916, 918, 920, 922, 924, 926, 928, 930, 932, 934, 936,\n",
              "       938, 940, 942, 944, 946, 948, 950, 952, 954, 956, 958, 960, 962,\n",
              "       964, 966, 968, 970, 972, 974, 976, 978, 980, 982, 984, 986, 988,\n",
              "       990, 992, 994, 996, 998])"
            ]
          },
          "metadata": {},
          "execution_count": 9
        }
      ]
    },
    {
      "cell_type": "markdown",
      "source": [
        "실수 range"
      ],
      "metadata": {
        "id": "XTj0AJjq_gKQ"
      }
    },
    {
      "cell_type": "code",
      "source": [
        "np.arange(0,1,0.1)"
      ],
      "metadata": {
        "colab": {
          "base_uri": "https://localhost:8080/"
        },
        "id": "jeD53ZrA_eNc",
        "outputId": "f632dbbd-4d84-4870-951a-16e8f942cac1"
      },
      "execution_count": null,
      "outputs": [
        {
          "output_type": "execute_result",
          "data": {
            "text/plain": [
              "array([0. , 0.1, 0.2, 0.3, 0.4, 0.5, 0.6, 0.7, 0.8, 0.9])"
            ]
          },
          "metadata": {},
          "execution_count": 10
        }
      ]
    },
    {
      "cell_type": "markdown",
      "source": [
        "reshape"
      ],
      "metadata": {
        "id": "6MxBLrGq_opT"
      }
    },
    {
      "cell_type": "code",
      "source": [
        "data = [0,1,2,3,4,5]\n",
        "\n",
        "np.array(data).reshape(2,3)"
      ],
      "metadata": {
        "colab": {
          "base_uri": "https://localhost:8080/"
        },
        "id": "AtGOgJ_y_lKz",
        "outputId": "49d988c9-a62a-4ecc-b3ac-a6d8b2ba8e29"
      },
      "execution_count": null,
      "outputs": [
        {
          "output_type": "execute_result",
          "data": {
            "text/plain": [
              "array([[0, 1, 2],\n",
              "       [3, 4, 5]])"
            ]
          },
          "metadata": {},
          "execution_count": 11
        }
      ]
    },
    {
      "cell_type": "code",
      "source": [
        "arr = np.array(data)\n",
        "arr.reshape(2,3)"
      ],
      "metadata": {
        "colab": {
          "base_uri": "https://localhost:8080/"
        },
        "id": "-3gUqQsH_uNK",
        "outputId": "b07ec8cf-13d0-4a9f-8747-5a6459d3ac0d"
      },
      "execution_count": null,
      "outputs": [
        {
          "output_type": "execute_result",
          "data": {
            "text/plain": [
              "array([[0, 1, 2],\n",
              "       [3, 4, 5]])"
            ]
          },
          "metadata": {},
          "execution_count": 13
        }
      ]
    },
    {
      "cell_type": "code",
      "source": [
        "arr = np.array([\n",
        "    [0,1,2],\n",
        "    [3,4,5]\n",
        "])\n",
        "arr.reshape(-1)"
      ],
      "metadata": {
        "colab": {
          "base_uri": "https://localhost:8080/"
        },
        "id": "FK8pv2ld_yhq",
        "outputId": "a71281ac-6e52-490f-c53d-70fe5663c567"
      },
      "execution_count": null,
      "outputs": [
        {
          "output_type": "execute_result",
          "data": {
            "text/plain": [
              "array([0, 1, 2, 3, 4, 5])"
            ]
          },
          "metadata": {},
          "execution_count": 14
        }
      ]
    },
    {
      "cell_type": "code",
      "source": [
        "arr.reshape(6)"
      ],
      "metadata": {
        "colab": {
          "base_uri": "https://localhost:8080/"
        },
        "id": "9g9H-mO7_-Sa",
        "outputId": "3ad5d73e-df9b-4267-a546-548c5f15e941"
      },
      "execution_count": null,
      "outputs": [
        {
          "output_type": "execute_result",
          "data": {
            "text/plain": [
              "array([0, 1, 2, 3, 4, 5])"
            ]
          },
          "metadata": {},
          "execution_count": 16
        }
      ]
    },
    {
      "cell_type": "code",
      "source": [
        "arr.flatten()"
      ],
      "metadata": {
        "colab": {
          "base_uri": "https://localhost:8080/"
        },
        "id": "Vln_OxeZABui",
        "outputId": "5da9fbba-4c98-4adc-c229-14dd1fd58982"
      },
      "execution_count": null,
      "outputs": [
        {
          "output_type": "execute_result",
          "data": {
            "text/plain": [
              "array([0, 1, 2, 3, 4, 5])"
            ]
          },
          "metadata": {},
          "execution_count": 17
        }
      ]
    },
    {
      "cell_type": "code",
      "source": [
        "arr = np.arange(3)\n",
        "arr"
      ],
      "metadata": {
        "colab": {
          "base_uri": "https://localhost:8080/"
        },
        "id": "qfCeXoWyAECj",
        "outputId": "386c534d-f6f4-46cb-ff26-34601adf6191"
      },
      "execution_count": null,
      "outputs": [
        {
          "output_type": "execute_result",
          "data": {
            "text/plain": [
              "array([0, 1, 2])"
            ]
          },
          "metadata": {},
          "execution_count": 18
        }
      ]
    },
    {
      "cell_type": "code",
      "source": [
        "arr.reshape(3,1)"
      ],
      "metadata": {
        "colab": {
          "base_uri": "https://localhost:8080/"
        },
        "id": "4lsXpkiNAMca",
        "outputId": "fb18e768-3f62-4729-b7c1-c7a64856924b"
      },
      "execution_count": null,
      "outputs": [
        {
          "output_type": "execute_result",
          "data": {
            "text/plain": [
              "array([[0],\n",
              "       [1],\n",
              "       [2]])"
            ]
          },
          "metadata": {},
          "execution_count": 20
        }
      ]
    },
    {
      "cell_type": "markdown",
      "source": [
        "에러의 원인"
      ],
      "metadata": {
        "id": "KtsgqSApAblz"
      }
    },
    {
      "cell_type": "code",
      "source": [
        "np.arange(6).reshape(2,4)"
      ],
      "metadata": {
        "colab": {
          "base_uri": "https://localhost:8080/",
          "height": 166
        },
        "id": "SYb-tJeiAYuK",
        "outputId": "4420e91e-7517-4cd6-e49e-893b98a1f179"
      },
      "execution_count": null,
      "outputs": [
        {
          "output_type": "error",
          "ename": "ValueError",
          "evalue": "ignored",
          "traceback": [
            "\u001b[0;31m---------------------------------------------------------------------------\u001b[0m",
            "\u001b[0;31mValueError\u001b[0m                                Traceback (most recent call last)",
            "\u001b[0;32m<ipython-input-23-d00476a74a87>\u001b[0m in \u001b[0;36m<module>\u001b[0;34m\u001b[0m\n\u001b[0;32m----> 1\u001b[0;31m \u001b[0mnp\u001b[0m\u001b[0;34m.\u001b[0m\u001b[0marange\u001b[0m\u001b[0;34m(\u001b[0m\u001b[0;36m6\u001b[0m\u001b[0;34m)\u001b[0m\u001b[0;34m.\u001b[0m\u001b[0mreshape\u001b[0m\u001b[0;34m(\u001b[0m\u001b[0;36m2\u001b[0m\u001b[0;34m,\u001b[0m\u001b[0;36m4\u001b[0m\u001b[0;34m)\u001b[0m\u001b[0;34m\u001b[0m\u001b[0;34m\u001b[0m\u001b[0m\n\u001b[0m",
            "\u001b[0;31mValueError\u001b[0m: cannot reshape array of size 6 into shape (2,4)"
          ]
        }
      ]
    },
    {
      "cell_type": "code",
      "source": [
        "np.arange(6).reshape(2,3)"
      ],
      "metadata": {
        "colab": {
          "base_uri": "https://localhost:8080/"
        },
        "id": "yZA2zgAtAeta",
        "outputId": "06e2ca40-1a4f-4f93-a512-672a3fc43e37"
      },
      "execution_count": null,
      "outputs": [
        {
          "output_type": "execute_result",
          "data": {
            "text/plain": [
              "array([[0, 1, 2],\n",
              "       [3, 4, 5]])"
            ]
          },
          "metadata": {},
          "execution_count": 24
        }
      ]
    },
    {
      "cell_type": "markdown",
      "source": [
        "### 011 - 020"
      ],
      "metadata": {
        "id": "1yFUZqrXAsgp"
      }
    },
    {
      "cell_type": "markdown",
      "source": [
        "2차원 배열"
      ],
      "metadata": {
        "id": "cf8Wk6pdAvkC"
      }
    },
    {
      "cell_type": "code",
      "source": [
        "np.arange(6).reshape(2,3)"
      ],
      "metadata": {
        "colab": {
          "base_uri": "https://localhost:8080/"
        },
        "id": "-gm_k7LCAiAQ",
        "outputId": "595e7f29-fb38-4da6-8091-a6bc06688153"
      },
      "execution_count": null,
      "outputs": [
        {
          "output_type": "execute_result",
          "data": {
            "text/plain": [
              "array([[0, 1, 2],\n",
              "       [3, 4, 5]])"
            ]
          },
          "metadata": {},
          "execution_count": 25
        }
      ]
    },
    {
      "cell_type": "code",
      "source": [
        "data = [\n",
        "    [0,1,2],\n",
        "    [3,4,5]\n",
        "]\n",
        "\n",
        "arr = np.array(data)\n",
        "arr"
      ],
      "metadata": {
        "colab": {
          "base_uri": "https://localhost:8080/"
        },
        "id": "Mr_XPt-IAz5J",
        "outputId": "64bfdd5e-2fb6-49f1-bb97-a11badbe09c7"
      },
      "execution_count": null,
      "outputs": [
        {
          "output_type": "execute_result",
          "data": {
            "text/plain": [
              "array([[0, 1, 2],\n",
              "       [3, 4, 5]])"
            ]
          },
          "metadata": {},
          "execution_count": 27
        }
      ]
    },
    {
      "cell_type": "markdown",
      "source": [
        "ones"
      ],
      "metadata": {
        "id": "6T8Tu0lcA-zR"
      }
    },
    {
      "cell_type": "code",
      "source": [
        "np.ones(20)"
      ],
      "metadata": {
        "colab": {
          "base_uri": "https://localhost:8080/"
        },
        "id": "w3-nyfmjA4zR",
        "outputId": "3b37b486-f385-420c-e3a3-ad0b40051cd0"
      },
      "execution_count": null,
      "outputs": [
        {
          "output_type": "execute_result",
          "data": {
            "text/plain": [
              "array([1., 1., 1., 1., 1., 1., 1., 1., 1., 1., 1., 1., 1., 1., 1., 1., 1.,\n",
              "       1., 1., 1.])"
            ]
          },
          "metadata": {},
          "execution_count": 28
        }
      ]
    },
    {
      "cell_type": "code",
      "source": [
        "data = [1] * 20\n",
        "np.array(data)"
      ],
      "metadata": {
        "colab": {
          "base_uri": "https://localhost:8080/"
        },
        "id": "-_XMGLEPBAww",
        "outputId": "4b63e7c9-2741-4783-e222-a1fe9e0a3712"
      },
      "execution_count": null,
      "outputs": [
        {
          "output_type": "execute_result",
          "data": {
            "text/plain": [
              "array([1, 1, 1, 1, 1, 1, 1, 1, 1, 1, 1, 1, 1, 1, 1, 1, 1, 1, 1, 1])"
            ]
          },
          "metadata": {},
          "execution_count": 29
        }
      ]
    },
    {
      "cell_type": "code",
      "source": [
        "np.ones(20, dtype=int)"
      ],
      "metadata": {
        "colab": {
          "base_uri": "https://localhost:8080/"
        },
        "id": "sqLD07BVBE6w",
        "outputId": "cf7be042-b33d-4056-b4a6-fb8f63ea909d"
      },
      "execution_count": null,
      "outputs": [
        {
          "output_type": "execute_result",
          "data": {
            "text/plain": [
              "array([1, 1, 1, 1, 1, 1, 1, 1, 1, 1, 1, 1, 1, 1, 1, 1, 1, 1, 1, 1])"
            ]
          },
          "metadata": {},
          "execution_count": 30
        }
      ]
    },
    {
      "cell_type": "code",
      "source": [
        "np.ones(20, int)"
      ],
      "metadata": {
        "colab": {
          "base_uri": "https://localhost:8080/"
        },
        "id": "DFle1we_BGeI",
        "outputId": "02329383-a0ed-4bde-f8cc-ccee94a5e748"
      },
      "execution_count": null,
      "outputs": [
        {
          "output_type": "execute_result",
          "data": {
            "text/plain": [
              "array([1, 1, 1, 1, 1, 1, 1, 1, 1, 1, 1, 1, 1, 1, 1, 1, 1, 1, 1, 1])"
            ]
          },
          "metadata": {},
          "execution_count": 31
        }
      ]
    },
    {
      "cell_type": "code",
      "source": [
        "np.ones(20, dtype=int).reshape(4,5)"
      ],
      "metadata": {
        "colab": {
          "base_uri": "https://localhost:8080/"
        },
        "id": "4uUeVQUyBHUr",
        "outputId": "9d0615b8-3cf7-40e3-b85a-6951d2df3ee6"
      },
      "execution_count": null,
      "outputs": [
        {
          "output_type": "execute_result",
          "data": {
            "text/plain": [
              "array([[1, 1, 1, 1, 1],\n",
              "       [1, 1, 1, 1, 1],\n",
              "       [1, 1, 1, 1, 1],\n",
              "       [1, 1, 1, 1, 1]])"
            ]
          },
          "metadata": {},
          "execution_count": 33
        }
      ]
    },
    {
      "cell_type": "code",
      "source": [
        "np.ones(100, int).reshape(10,10) * 255"
      ],
      "metadata": {
        "colab": {
          "base_uri": "https://localhost:8080/"
        },
        "id": "4bRSTWBmBKro",
        "outputId": "27b1b3ea-2e8e-4cbb-ae3e-21748aab46c4"
      },
      "execution_count": null,
      "outputs": [
        {
          "output_type": "execute_result",
          "data": {
            "text/plain": [
              "array([[255, 255, 255, 255, 255, 255, 255, 255, 255, 255],\n",
              "       [255, 255, 255, 255, 255, 255, 255, 255, 255, 255],\n",
              "       [255, 255, 255, 255, 255, 255, 255, 255, 255, 255],\n",
              "       [255, 255, 255, 255, 255, 255, 255, 255, 255, 255],\n",
              "       [255, 255, 255, 255, 255, 255, 255, 255, 255, 255],\n",
              "       [255, 255, 255, 255, 255, 255, 255, 255, 255, 255],\n",
              "       [255, 255, 255, 255, 255, 255, 255, 255, 255, 255],\n",
              "       [255, 255, 255, 255, 255, 255, 255, 255, 255, 255],\n",
              "       [255, 255, 255, 255, 255, 255, 255, 255, 255, 255],\n",
              "       [255, 255, 255, 255, 255, 255, 255, 255, 255, 255]])"
            ]
          },
          "metadata": {},
          "execution_count": 38
        }
      ]
    },
    {
      "cell_type": "markdown",
      "source": [
        "zeros"
      ],
      "metadata": {
        "id": "aCiQGD7dBcQG"
      }
    },
    {
      "cell_type": "code",
      "source": [
        "np.zeros(12)"
      ],
      "metadata": {
        "colab": {
          "base_uri": "https://localhost:8080/"
        },
        "id": "jq-goodyBS74",
        "outputId": "c74f97be-9f62-4b3a-9c60-c34a2d98a1a8"
      },
      "execution_count": null,
      "outputs": [
        {
          "output_type": "execute_result",
          "data": {
            "text/plain": [
              "array([0., 0., 0., 0., 0., 0., 0., 0., 0., 0., 0., 0.])"
            ]
          },
          "metadata": {},
          "execution_count": 39
        }
      ]
    },
    {
      "cell_type": "code",
      "source": [
        "np.zeros(12, int)"
      ],
      "metadata": {
        "colab": {
          "base_uri": "https://localhost:8080/"
        },
        "id": "FMb4RgW3BfRY",
        "outputId": "5d533ce5-f961-40a9-b048-bc71e6657280"
      },
      "execution_count": null,
      "outputs": [
        {
          "output_type": "execute_result",
          "data": {
            "text/plain": [
              "array([0, 0, 0, 0, 0, 0, 0, 0, 0, 0, 0, 0])"
            ]
          },
          "metadata": {},
          "execution_count": 40
        }
      ]
    },
    {
      "cell_type": "code",
      "source": [
        "np.zeros(12, int).reshape(3,4)"
      ],
      "metadata": {
        "colab": {
          "base_uri": "https://localhost:8080/"
        },
        "id": "SSSnYKR5BgHI",
        "outputId": "c94579d1-1fa6-4504-e925-a2a4814b3ae2"
      },
      "execution_count": null,
      "outputs": [
        {
          "output_type": "execute_result",
          "data": {
            "text/plain": [
              "array([[0, 0, 0, 0],\n",
              "       [0, 0, 0, 0],\n",
              "       [0, 0, 0, 0]])"
            ]
          },
          "metadata": {},
          "execution_count": 41
        }
      ]
    },
    {
      "cell_type": "code",
      "source": [
        "np.zeros((3,4))"
      ],
      "metadata": {
        "colab": {
          "base_uri": "https://localhost:8080/"
        },
        "id": "l5_8erJ0BhcP",
        "outputId": "31604ec4-885e-409b-daee-4fb3b181d303"
      },
      "execution_count": null,
      "outputs": [
        {
          "output_type": "execute_result",
          "data": {
            "text/plain": [
              "array([[0., 0., 0., 0.],\n",
              "       [0., 0., 0., 0.],\n",
              "       [0., 0., 0., 0.]])"
            ]
          },
          "metadata": {},
          "execution_count": 44
        }
      ]
    },
    {
      "cell_type": "code",
      "source": [
        "np.zeros((3,4), int)"
      ],
      "metadata": {
        "colab": {
          "base_uri": "https://localhost:8080/"
        },
        "id": "3Ia_Kp8nBluB",
        "outputId": "c3897ac6-bb84-454d-c635-db5a6dc870ef"
      },
      "execution_count": null,
      "outputs": [
        {
          "output_type": "execute_result",
          "data": {
            "text/plain": [
              "array([[0, 0, 0, 0],\n",
              "       [0, 0, 0, 0],\n",
              "       [0, 0, 0, 0]])"
            ]
          },
          "metadata": {},
          "execution_count": 45
        }
      ]
    },
    {
      "cell_type": "markdown",
      "source": [
        "dtype"
      ],
      "metadata": {
        "id": "zAzjJe3QBqnn"
      }
    },
    {
      "cell_type": "code",
      "source": [
        "data = [1,2,3]\n",
        "\n",
        "np.int32(data)"
      ],
      "metadata": {
        "colab": {
          "base_uri": "https://localhost:8080/"
        },
        "id": "hVGaATCHBq5X",
        "outputId": "486cd1a3-963d-4418-b7ae-85032abf6ccf"
      },
      "execution_count": null,
      "outputs": [
        {
          "output_type": "execute_result",
          "data": {
            "text/plain": [
              "array([1, 2, 3], dtype=int32)"
            ]
          },
          "metadata": {},
          "execution_count": 46
        }
      ]
    },
    {
      "cell_type": "code",
      "source": [
        "np.ndarray(data, dtype=np.int32)"
      ],
      "metadata": {
        "colab": {
          "base_uri": "https://localhost:8080/"
        },
        "id": "Ij8PbPfCBwcF",
        "outputId": "d1d702e6-2deb-4fb0-a780-1a0e82f0bf96"
      },
      "execution_count": null,
      "outputs": [
        {
          "output_type": "execute_result",
          "data": {
            "text/plain": [
              "array([[[56537728,        0,        0],\n",
              "        [57933825,  8979562, 25624711]]], dtype=int32)"
            ]
          },
          "metadata": {},
          "execution_count": 47
        }
      ]
    },
    {
      "cell_type": "code",
      "source": [
        "arr = np.array([1,2,3])"
      ],
      "metadata": {
        "id": "t8zQggaPB2a-"
      },
      "execution_count": null,
      "outputs": []
    },
    {
      "cell_type": "code",
      "source": [
        "arr"
      ],
      "metadata": {
        "colab": {
          "base_uri": "https://localhost:8080/"
        },
        "id": "Mwfne-AgCOyu",
        "outputId": "90ba6222-5083-439a-ead1-ce70eda86e03"
      },
      "execution_count": null,
      "outputs": [
        {
          "output_type": "execute_result",
          "data": {
            "text/plain": [
              "array([1, 2, 3])"
            ]
          },
          "metadata": {},
          "execution_count": 49
        }
      ]
    },
    {
      "cell_type": "code",
      "source": [
        "type(arr)"
      ],
      "metadata": {
        "colab": {
          "base_uri": "https://localhost:8080/"
        },
        "id": "zO4Q6t49CPhv",
        "outputId": "d463f34b-836d-4802-80aa-3e6d9707daac"
      },
      "execution_count": null,
      "outputs": [
        {
          "output_type": "execute_result",
          "data": {
            "text/plain": [
              "numpy.ndarray"
            ]
          },
          "metadata": {},
          "execution_count": 50
        }
      ]
    },
    {
      "cell_type": "code",
      "source": [
        "print(arr.dtype)"
      ],
      "metadata": {
        "colab": {
          "base_uri": "https://localhost:8080/"
        },
        "id": "Bi8QHNsbCQR_",
        "outputId": "93e65dfe-207c-4a05-d9d4-00cca7143945"
      },
      "execution_count": null,
      "outputs": [
        {
          "output_type": "stream",
          "name": "stdout",
          "text": [
            "int64\n"
          ]
        }
      ]
    },
    {
      "cell_type": "code",
      "source": [
        "arr = np.array(['1','2','3'])\n",
        "print(arr.dtype)"
      ],
      "metadata": {
        "colab": {
          "base_uri": "https://localhost:8080/"
        },
        "id": "3iSvYsXxCTOS",
        "outputId": "ab0f4649-cc69-40dc-ade1-442d030e7177"
      },
      "execution_count": null,
      "outputs": [
        {
          "output_type": "stream",
          "name": "stdout",
          "text": [
            "<U1\n"
          ]
        }
      ]
    },
    {
      "cell_type": "code",
      "source": [
        "arr = np.array([1,2,3])\n",
        "print(arr.dtype)"
      ],
      "metadata": {
        "colab": {
          "base_uri": "https://localhost:8080/"
        },
        "id": "aRM4uPpWCYa-",
        "outputId": "75af84d6-bf8d-42f6-996d-151d9c2e5239"
      },
      "execution_count": null,
      "outputs": [
        {
          "output_type": "stream",
          "name": "stdout",
          "text": [
            "int64\n"
          ]
        }
      ]
    },
    {
      "cell_type": "code",
      "source": [
        "arr = arr.astype(np.int16)\n",
        "print(arr.dtype)"
      ],
      "metadata": {
        "colab": {
          "base_uri": "https://localhost:8080/"
        },
        "id": "viv8XWE_Cgat",
        "outputId": "8325385f-b506-48a2-97ba-cdd549e97586"
      },
      "execution_count": null,
      "outputs": [
        {
          "output_type": "stream",
          "name": "stdout",
          "text": [
            "int16\n"
          ]
        }
      ]
    },
    {
      "cell_type": "code",
      "source": [
        "arr"
      ],
      "metadata": {
        "colab": {
          "base_uri": "https://localhost:8080/"
        },
        "id": "wPcd8DJhCmI8",
        "outputId": "746e3751-f1fe-4067-826a-80b71bc07013"
      },
      "execution_count": null,
      "outputs": [
        {
          "output_type": "execute_result",
          "data": {
            "text/plain": [
              "array([1, 2, 3], dtype=int16)"
            ]
          },
          "metadata": {},
          "execution_count": 57
        }
      ]
    },
    {
      "cell_type": "code",
      "source": [
        "a = np.array( [255, 300, 128], dtype=np.uint8)\n",
        "a"
      ],
      "metadata": {
        "colab": {
          "base_uri": "https://localhost:8080/"
        },
        "id": "a6azE2oXCpQf",
        "outputId": "545f0ca3-8372-4be2-9ec3-c8e8cb21a772"
      },
      "execution_count": null,
      "outputs": [
        {
          "output_type": "execute_result",
          "data": {
            "text/plain": [
              "array([255,  44, 128], dtype=uint8)"
            ]
          },
          "metadata": {},
          "execution_count": 62
        }
      ]
    },
    {
      "cell_type": "markdown",
      "source": [
        "### 021-030"
      ],
      "metadata": {
        "id": "bZta--QyC6pY"
      }
    },
    {
      "cell_type": "code",
      "source": [],
      "metadata": {
        "id": "4RjYeZi1CvMN"
      },
      "execution_count": null,
      "outputs": []
    }
  ]
}